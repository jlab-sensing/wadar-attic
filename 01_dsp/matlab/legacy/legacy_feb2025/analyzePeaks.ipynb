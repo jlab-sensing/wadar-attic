{
 "cells": [
  {
   "cell_type": "code",
   "execution_count": 32,
   "metadata": {},
   "outputs": [],
   "source": [
    "xlsxFilename = 'confidence.xlsx'\n",
    "path = '/home/bradley/Documents/Research/peak_detect/' + xlsxFilename"
   ]
  },
  {
   "cell_type": "markdown",
   "metadata": {},
   "source": [
    "# Function declaration "
   ]
  },
  {
   "cell_type": "code",
   "execution_count": 33,
   "metadata": {},
   "outputs": [],
   "source": [
    "import pandas as pd\n",
    "import re\n",
    "import matplotlib.pyplot as plt\n",
    "import numpy as np\n",
    "\n",
    "def groupAnalysis(df, groupName):\n",
    "    \n",
    "    df_info = pd.DataFrame(index = df[groupName].unique(), \\\n",
    "                           columns = ['count', 'meanPeakError', 'meanAbsPeakError', \\\n",
    "                                      'peakErrorWithinT', 'stdPeakError', '5%', '95%'])\n",
    "\n",
    "    df_grouped = df[[groupName] + ['peakErrors_1', 'peakErrorsAbs_1', 'peakErrorsWithinT_1']].groupby(groupName)\n",
    "\n",
    "    df_info['meanPeakError'] = df_grouped['peakErrors_1'].mean()\n",
    "    df_info['stdPeakError'] = df_grouped['peakErrors_1'].std()\n",
    "    df_info['meanAbsPeakError'] = df_grouped['peakErrorsAbs_1'].mean()\n",
    "    df_info['peakErrorWithinT'] = df_grouped['peakErrorsWithinT_1'].mean()\n",
    "    df_info['count'] = df_grouped['peakErrors_1'].count()\n",
    "    df_info['5%'] = df_grouped['peakErrors_1'].quantile(0.05)\n",
    "    df_info['95%'] = df_grouped['peakErrors_1'].quantile(0.95)\n",
    "\n",
    "    return df_info.sort_index()"
   ]
  },
  {
   "cell_type": "markdown",
   "metadata": {},
   "source": [
    "# get the dataframe and do some processing "
   ]
  },
  {
   "cell_type": "code",
   "execution_count": 34,
   "metadata": {},
   "outputs": [
    {
     "name": "stdout",
     "output_type": "stream",
     "text": [
      "Index(['expNames', 'captureNames', 'peaksManual', 'peakPreds_1', 'peakPreds_2',\n",
      "       'peakErrors_1', 'peakErrors_2', 'confidencePreds_1',\n",
      "       'confidencePreds_2', 'vwcTrue', 'vwcManual', 'vwcPreds_1', 'vwcPreds_2',\n",
      "       'vwcErrors_1', 'vwcErrors_2', 'moistureLevel', 'confidenceLevel',\n",
      "       'peakErrorsAbs_1', 'tagType', 'peakErrorsWithinT_1'],\n",
      "      dtype='object')\n"
     ]
    }
   ],
   "source": [
    "df = pd.read_excel(path)\n",
    "\n",
    "# drop null values \n",
    "df = df.dropna()\n",
    "\n",
    "# remove trailing number on captures \n",
    "df['captureNames'] = df['captureNames'].apply(lambda s: re.sub(r'\\d+$', '', s))\n",
    "\n",
    "# define moisture levels in increments \n",
    "df['moistureLevel'] = ((df['vwcTrue'] * 2 // 0.1) + 1).astype('int32')\n",
    "df['moistureLevel'] = df['moistureLevel'].map({1: \"0-0.1\",\\\n",
    "                                              2: \"0-0.1\",\\\n",
    "                                              3: \"0.1-0.2\",\\\n",
    "                                              4: \"0.1-0.2\",\\\n",
    "                                              5: \"0.2-0.25\",\\\n",
    "                                              6: \"0.25-0.3\",\\\n",
    "                                              7: \"0.3-0.35\",\\\n",
    "                                              8: \">0.35\",\\\n",
    "                                              9: \">0.35\",\\\n",
    "                                              10: \">0.35\"})\n",
    "\n",
    "# define confidence levels in increments \n",
    "df['confidenceLevel'] = (df['confidencePreds_1'] // 0.1).astype('int32')\n",
    "df['confidenceLevel'] = df['confidenceLevel'].map({0: \"0-0.1\",\\\n",
    "                                              1: \"0.1-0.2\",\\\n",
    "                                              2: \"0.2-0.3\",\\\n",
    "                                              3: \"0.3-0.4\",\\\n",
    "                                              4: \"0.4-0.5\",\\\n",
    "                                              5: \"0.5-0.6\",\\\n",
    "                                              6: \"0.6-0.7\",\\\n",
    "                                              7: \"0.7-0.8\",\\\n",
    "                                              8: \"0.8-0.9\",\\\n",
    "                                              9: \"0.9-1\"})\n",
    "\n",
    "# calculate absolute value of peak error \n",
    "df['peakErrorsAbs_1'] = abs(df['peakErrors_1'])\n",
    "\n",
    "\n",
    "# define whether the experiment was active or passive \n",
    "df['tagType'] = df['expNames'].apply(lambda x: 'passive' if ('passive' in x) else 'active')\n",
    "\n",
    "# determine if auto peak within t bins of manual peak \n",
    "t = 15\n",
    "df['peakErrorsWithinT_1'] = np.where(df['peakErrors_1'].abs() <= t, True, False)\n",
    "\n",
    "print(df.columns)"
   ]
  },
  {
   "cell_type": "markdown",
   "metadata": {},
   "source": [
    "# How close are we to the correct bin, on average? "
   ]
  },
  {
   "cell_type": "code",
   "execution_count": 35,
   "metadata": {},
   "outputs": [
    {
     "name": "stdout",
     "output_type": "stream",
     "text": [
      "mean, std for error on bin prediction for template 1 = -6.4877622377622375, 27.883416889452235\n",
      "\n",
      "Roughly 5% of bin predictions are more than than 63.0 below the measured bin\n",
      "Roughly 5% of bin predictions are more than than 23.0 above the measured bin\n"
     ]
    },
    {
     "data": {
      "image/png": "[encoded data removed]",
      "text/plain": [
       "<Figure size 1296x432 with 1 Axes>"
      ]
     },
     "metadata": {
      "needs_background": "light"
     },
     "output_type": "display_data"
    }
   ],
   "source": [
    "print('mean, std for error on bin prediction for template 1 = {}, {}\\n'\\\n",
    "      .format(df['peakErrors_1'].mean(),df['peakErrors_1'].std()))\n",
    "\n",
    "hist = df.hist(column = 'peakErrors_1', bins = 100, figsize = (18,6));\n",
    "\n",
    "# 5% and 95% \n",
    "print('Roughly 5% of bin predictions are more than than {} below the measured bin'\\\n",
    "      .format(-1*df['peakErrors_1'].quantile(.05).round(0)))\n",
    "print('Roughly 5% of bin predictions are more than than {} above the measured bin'\\\n",
    "      .format(df['peakErrors_1'].quantile(.95).round(0)))"
   ]
  },
  {
   "cell_type": "markdown",
   "metadata": {},
   "source": [
    "# Group Analysis"
   ]
  },
  {
   "cell_type": "code",
   "execution_count": 36,
   "metadata": {},
   "outputs": [
    {
     "name": "stdout",
     "output_type": "stream",
     "text": [
      "          count  meanPeakError  meanAbsPeakError  peakErrorWithinT  \\\n",
      "0-0.1        50      -0.120000          0.280000          1.000000   \n",
      "0.1-0.2     120      -3.150000          3.933333          0.908333   \n",
      "0.2-0.25     19      13.763158         21.605263          0.578947   \n",
      "0.25-0.3     49      -4.693878         24.244898          0.612245   \n",
      "0.3-0.35     29     -31.586207         32.206897          0.413793   \n",
      ">0.35        19     -30.894737         30.894737          0.578947   \n",
      "\n",
      "          stdPeakError     5%   95%  \n",
      "0-0.1         0.520596   -1.0   1.0  \n",
      "0.1-0.2       6.113286  -18.0   1.0  \n",
      "0.2-0.25     25.096684  -10.1  47.2  \n",
      "0.25-0.3     44.311964  -95.6  43.0  \n",
      "0.3-0.35     30.877080  -64.6   1.2  \n",
      ">0.35        49.407483 -136.1   0.0  \n"
     ]
    }
   ],
   "source": [
    "# Analysis by Moisture Level\n",
    "\n",
    "print(groupAnalysis(df, 'moistureLevel'))"
   ]
  },
  {
   "cell_type": "code",
   "execution_count": 37,
   "metadata": {},
   "outputs": [
    {
     "name": "stdout",
     "output_type": "stream",
     "text": [
      "              count  meanPeakError  meanAbsPeakError  peakErrorWithinT  \\\n",
      "active_silt      50      -3.320000          3.400000          0.980000   \n",
      "clay_active      49     -16.693878         17.306122          0.673469   \n",
      "clay_passive     49       5.612245         10.918367          0.775510   \n",
      "farm_active      39     -21.500000         21.500000          0.538462   \n",
      "farm_passive     50      -6.000000         11.800000          0.840000   \n",
      "silt_passive     49      -0.163265         12.734694          0.816327   \n",
      "\n",
      "              stdPeakError      5%   95%  \n",
      "active_silt       9.782200  -11.00   0.0  \n",
      "clay_active      27.931616  -63.00   2.6  \n",
      "clay_passive     18.149628   -8.80  45.6  \n",
      "farm_active      35.452897 -132.20   0.0  \n",
      "farm_passive     27.551066  -55.25  25.2  \n",
      "silt_passive     33.892199   -9.00  43.0  \n"
     ]
    }
   ],
   "source": [
    "# Analysis by experiment \n",
    "\n",
    "print(groupAnalysis(df, 'expNames'))"
   ]
  },
  {
   "cell_type": "code",
   "execution_count": 38,
   "metadata": {},
   "outputs": [
    {
     "name": "stdout",
     "output_type": "stream",
     "text": [
      "         count  meanPeakError  meanAbsPeakError  peakErrorWithinT  \\\n",
      "active     138     -13.206522         13.452899          0.746377   \n",
      "passive    148      -0.222973         11.817568          0.810811   \n",
      "\n",
      "         stdPeakError     5%    95%  \n",
      "active      26.754543 -63.00   0.00  \n",
      "passive     27.538426 -13.65  39.65  \n"
     ]
    }
   ],
   "source": [
    "# Analysis by tag\n",
    "\n",
    "print(groupAnalysis(df, 'tagType'))"
   ]
  },
  {
   "cell_type": "code",
   "execution_count": 39,
   "metadata": {},
   "outputs": [
    {
     "name": "stdout",
     "output_type": "stream",
     "text": [
      "         count  meanPeakError  meanAbsPeakError  peakErrorWithinT  \\\n",
      "0-0.1        9    -123.666667        123.666667          0.000000   \n",
      "0.1-0.2     21     -21.190476         23.095238          0.666667   \n",
      "0.2-0.3      3     -10.666667         30.666667          0.333333   \n",
      "0.3-0.4      7      -8.714286         15.000000          0.571429   \n",
      "0.4-0.5     15      -0.400000          9.200000          0.800000   \n",
      "0.5-0.6      1     -28.000000         28.000000          0.000000   \n",
      "0.6-0.7      3      10.333333         19.666667          0.666667   \n",
      "0.7-0.8      7      -4.857143          4.857143          1.000000   \n",
      "0.9-1      220      -0.761364          7.052273          0.831818   \n",
      "\n",
      "         stdPeakError     5%   95%  \n",
      "0-0.1       40.221263 -183.2 -73.4  \n",
      "0.1-0.2     30.805225  -64.0   3.0  \n",
      "0.2-0.3     44.859038  -54.9  19.8  \n",
      "0.3-0.4     16.977576  -28.0  11.4  \n",
      "0.4-0.5     17.859771  -27.8  19.5  \n",
      "0.5-0.6           NaN  -28.0 -28.0  \n",
      "0.6-0.7     30.287511  -10.2  40.2  \n",
      "0.7-0.8      2.544836   -7.0  -0.9  \n",
      "0.9-1       13.559226  -18.0  27.1  \n"
     ]
    }
   ],
   "source": [
    "# Analysis by confidence level (1st template)\n",
    "\n",
    "print(groupAnalysis(df, 'confidenceLevel'))"
   ]
  },
  {
   "cell_type": "markdown",
   "metadata": {},
   "source": [
    "## Confidence Metric"
   ]
  },
  {
   "cell_type": "code",
   "execution_count": 40,
   "metadata": {},
   "outputs": [
    {
     "data": {
      "text/plain": [
       "<matplotlib.axes._subplots.AxesSubplot at 0x7fde602ed780>"
      ]
     },
     "execution_count": 40,
     "metadata": {},
     "output_type": "execute_result"
    },
    {
     "data": {
      "image/png": "[encoded data removed]",
      "text/plain": [
       "<Figure size 864x864 with 1 Axes>"
      ]
     },
     "metadata": {
      "needs_background": "light"
     },
     "output_type": "display_data"
    }
   ],
   "source": [
    "df.plot(kind = 'scatter', x = 'confidencePreds_1', y = 'peakErrors_1', figsize = (12,12))"
   ]
  }
 ],
 "metadata": {
  "kernelspec": {
   "display_name": "Python 3",
   "language": "python",
   "name": "python3"
  },
  "language_info": {
   "codemirror_mode": {
    "name": "ipython",
    "version": 3
   },
   "file_extension": ".py",
   "mimetype": "text/x-python",
   "name": "python",
   "nbconvert_exporter": "python",
   "pygments_lexer": "ipython3",
   "version": "3.7.3"
  }
 },
 "nbformat": 4,
 "nbformat_minor": 2
}
